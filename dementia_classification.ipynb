{
  "nbformat": 4,
  "nbformat_minor": 0,
  "metadata": {
    "colab": {
      "provenance": [],
      "authorship_tag": "ABX9TyMSZVxQXn5yF28EUBGgDUIX",
      "include_colab_link": true
    },
    "kernelspec": {
      "name": "python3",
      "display_name": "Python 3"
    },
    "language_info": {
      "name": "python"
    }
  },
  "cells": [
    {
      "cell_type": "markdown",
      "metadata": {
        "id": "view-in-github",
        "colab_type": "text"
      },
      "source": [
        "<a href=\"https://colab.research.google.com/github/animakumawat/dementia_classification-sklearn/blob/main/dementia_classification.ipynb\" target=\"_parent\"><img src=\"https://colab.research.google.com/assets/colab-badge.svg\" alt=\"Open In Colab\"/></a>"
      ]
    },
    {
      "cell_type": "markdown",
      "source": [
        "### 1. Data loading and cleansing"
      ],
      "metadata": {
        "id": "_NTTVCI74l51"
      }
    },
    {
      "cell_type": "code",
      "source": [
        "# Mount the Google Drive to access files and directories in Google Colab\n",
        "from google.colab import drive\n",
        "drive.mount('/content/drive')"
      ],
      "metadata": {
        "colab": {
          "base_uri": "https://localhost:8080/"
        },
        "id": "j0a8SoUJ2wx5",
        "outputId": "252891ec-00e2-4a74-e8cd-c6bfa9fd3f21"
      },
      "execution_count": null,
      "outputs": [
        {
          "output_type": "stream",
          "name": "stdout",
          "text": [
            "Mounted at /content/drive\n"
          ]
        }
      ]
    },
    {
      "cell_type": "code",
      "source": [
        "# # Importing the necessary libraries\n",
        "import pandas as pd\n",
        "import numpy as np\n",
        "import matplotlib.pyplot as plt\n",
        "import seaborn as sns"
      ],
      "metadata": {
        "id": "jE2AHPxg262y"
      },
      "execution_count": null,
      "outputs": []
    },
    {
      "cell_type": "code",
      "source": [
        "# Reading the CSV file into a DataFrame\n",
        "df1 = pd.read_csv('/content/drive/MyDrive/datasets/dementia_classification/dementia_dataset.csv')\n",
        "\n",
        "# Printing the shape of the DataFrame\n",
        "print(df1.shape)"
      ],
      "metadata": {
        "colab": {
          "base_uri": "https://localhost:8080/"
        },
        "id": "06UOOq2x3Xip",
        "outputId": "428ba97b-7bc6-4c8e-a0b8-8fbd55c305ee"
      },
      "execution_count": null,
      "outputs": [
        {
          "output_type": "stream",
          "name": "stdout",
          "text": [
            "(373, 15)\n"
          ]
        }
      ]
    },
    {
      "cell_type": "markdown",
      "source": [
        "#### Features in Dementia database\n",
        "\n",
        "* **SubjectID**:\tUnique Identifier for individual subjects\n",
        "*   **MRI ID**:\tUnique identifier for each test. One subject may have more than one MRI ID\n",
        "*   **Group**:\tClass label\n",
        "*   **Visit**:\tNumber of times a subject has visited for test\n",
        "*   **MRDelay**:\tDelay of visit by a subject since last visit (Number of days)\n",
        "*   **CDR**\tClinical dementia rating\n",
        "*   **Gender**: Male or Female\n",
        "*   **SES**:\tSocio Economic Status assessed by hollingshead index of social position\n",
        "*   **MMSE**:\tMini Mental State Examination Value\n",
        "*   **eTIV**:\tEstimated total intracranial volume\n",
        "*   **nWBV**:\tNormalized whole-brain volume, expressed as a percent of all voxels \n",
        "      (“constant” for any value of estimated total intracranial volume)\n",
        "*   **ASF**:\tAtlas Scale Factor; volume scaling factor for brain size (“constant” for any value of estimated total intracranial volume)"
      ],
      "metadata": {
        "id": "7OHM4Y5Nt8-P"
      }
    },
    {
      "cell_type": "code",
      "source": [
        "df1.head(5)"
      ],
      "metadata": {
        "colab": {
          "base_uri": "https://localhost:8080/",
          "height": 206
        },
        "id": "XSRS4haM3ldm",
        "outputId": "a97d8b88-a7a2-4673-d72e-8020efad6206"
      },
      "execution_count": null,
      "outputs": [
        {
          "output_type": "execute_result",
          "data": {
            "text/plain": [
              "  Subject ID         MRI ID        Group  Visit  MR Delay M/F Hand  Age  EDUC  \\\n",
              "0  OAS2_0001  OAS2_0001_MR1  Nondemented      1         0   M    R   87    14   \n",
              "1  OAS2_0001  OAS2_0001_MR2  Nondemented      2       457   M    R   88    14   \n",
              "2  OAS2_0002  OAS2_0002_MR1     Demented      1         0   M    R   75    12   \n",
              "3  OAS2_0002  OAS2_0002_MR2     Demented      2       560   M    R   76    12   \n",
              "4  OAS2_0002  OAS2_0002_MR3     Demented      3      1895   M    R   80    12   \n",
              "\n",
              "   SES  MMSE  CDR  eTIV   nWBV    ASF  \n",
              "0  2.0  27.0  0.0  1987  0.696  0.883  \n",
              "1  2.0  30.0  0.0  2004  0.681  0.876  \n",
              "2  NaN  23.0  0.5  1678  0.736  1.046  \n",
              "3  NaN  28.0  0.5  1738  0.713  1.010  \n",
              "4  NaN  22.0  0.5  1698  0.701  1.034  "
            ],
            "text/html": [
              "\n",
              "  <div id=\"df-9b7b2af6-881b-420d-9527-55817d2c3d7c\">\n",
              "    <div class=\"colab-df-container\">\n",
              "      <div>\n",
              "<style scoped>\n",
              "    .dataframe tbody tr th:only-of-type {\n",
              "        vertical-align: middle;\n",
              "    }\n",
              "\n",
              "    .dataframe tbody tr th {\n",
              "        vertical-align: top;\n",
              "    }\n",
              "\n",
              "    .dataframe thead th {\n",
              "        text-align: right;\n",
              "    }\n",
              "</style>\n",
              "<table border=\"1\" class=\"dataframe\">\n",
              "  <thead>\n",
              "    <tr style=\"text-align: right;\">\n",
              "      <th></th>\n",
              "      <th>Subject ID</th>\n",
              "      <th>MRI ID</th>\n",
              "      <th>Group</th>\n",
              "      <th>Visit</th>\n",
              "      <th>MR Delay</th>\n",
              "      <th>M/F</th>\n",
              "      <th>Hand</th>\n",
              "      <th>Age</th>\n",
              "      <th>EDUC</th>\n",
              "      <th>SES</th>\n",
              "      <th>MMSE</th>\n",
              "      <th>CDR</th>\n",
              "      <th>eTIV</th>\n",
              "      <th>nWBV</th>\n",
              "      <th>ASF</th>\n",
              "    </tr>\n",
              "  </thead>\n",
              "  <tbody>\n",
              "    <tr>\n",
              "      <th>0</th>\n",
              "      <td>OAS2_0001</td>\n",
              "      <td>OAS2_0001_MR1</td>\n",
              "      <td>Nondemented</td>\n",
              "      <td>1</td>\n",
              "      <td>0</td>\n",
              "      <td>M</td>\n",
              "      <td>R</td>\n",
              "      <td>87</td>\n",
              "      <td>14</td>\n",
              "      <td>2.0</td>\n",
              "      <td>27.0</td>\n",
              "      <td>0.0</td>\n",
              "      <td>1987</td>\n",
              "      <td>0.696</td>\n",
              "      <td>0.883</td>\n",
              "    </tr>\n",
              "    <tr>\n",
              "      <th>1</th>\n",
              "      <td>OAS2_0001</td>\n",
              "      <td>OAS2_0001_MR2</td>\n",
              "      <td>Nondemented</td>\n",
              "      <td>2</td>\n",
              "      <td>457</td>\n",
              "      <td>M</td>\n",
              "      <td>R</td>\n",
              "      <td>88</td>\n",
              "      <td>14</td>\n",
              "      <td>2.0</td>\n",
              "      <td>30.0</td>\n",
              "      <td>0.0</td>\n",
              "      <td>2004</td>\n",
              "      <td>0.681</td>\n",
              "      <td>0.876</td>\n",
              "    </tr>\n",
              "    <tr>\n",
              "      <th>2</th>\n",
              "      <td>OAS2_0002</td>\n",
              "      <td>OAS2_0002_MR1</td>\n",
              "      <td>Demented</td>\n",
              "      <td>1</td>\n",
              "      <td>0</td>\n",
              "      <td>M</td>\n",
              "      <td>R</td>\n",
              "      <td>75</td>\n",
              "      <td>12</td>\n",
              "      <td>NaN</td>\n",
              "      <td>23.0</td>\n",
              "      <td>0.5</td>\n",
              "      <td>1678</td>\n",
              "      <td>0.736</td>\n",
              "      <td>1.046</td>\n",
              "    </tr>\n",
              "    <tr>\n",
              "      <th>3</th>\n",
              "      <td>OAS2_0002</td>\n",
              "      <td>OAS2_0002_MR2</td>\n",
              "      <td>Demented</td>\n",
              "      <td>2</td>\n",
              "      <td>560</td>\n",
              "      <td>M</td>\n",
              "      <td>R</td>\n",
              "      <td>76</td>\n",
              "      <td>12</td>\n",
              "      <td>NaN</td>\n",
              "      <td>28.0</td>\n",
              "      <td>0.5</td>\n",
              "      <td>1738</td>\n",
              "      <td>0.713</td>\n",
              "      <td>1.010</td>\n",
              "    </tr>\n",
              "    <tr>\n",
              "      <th>4</th>\n",
              "      <td>OAS2_0002</td>\n",
              "      <td>OAS2_0002_MR3</td>\n",
              "      <td>Demented</td>\n",
              "      <td>3</td>\n",
              "      <td>1895</td>\n",
              "      <td>M</td>\n",
              "      <td>R</td>\n",
              "      <td>80</td>\n",
              "      <td>12</td>\n",
              "      <td>NaN</td>\n",
              "      <td>22.0</td>\n",
              "      <td>0.5</td>\n",
              "      <td>1698</td>\n",
              "      <td>0.701</td>\n",
              "      <td>1.034</td>\n",
              "    </tr>\n",
              "  </tbody>\n",
              "</table>\n",
              "</div>\n",
              "      <button class=\"colab-df-convert\" onclick=\"convertToInteractive('df-9b7b2af6-881b-420d-9527-55817d2c3d7c')\"\n",
              "              title=\"Convert this dataframe to an interactive table.\"\n",
              "              style=\"display:none;\">\n",
              "        \n",
              "  <svg xmlns=\"http://www.w3.org/2000/svg\" height=\"24px\"viewBox=\"0 0 24 24\"\n",
              "       width=\"24px\">\n",
              "    <path d=\"M0 0h24v24H0V0z\" fill=\"none\"/>\n",
              "    <path d=\"M18.56 5.44l.94 2.06.94-2.06 2.06-.94-2.06-.94-.94-2.06-.94 2.06-2.06.94zm-11 1L8.5 8.5l.94-2.06 2.06-.94-2.06-.94L8.5 2.5l-.94 2.06-2.06.94zm10 10l.94 2.06.94-2.06 2.06-.94-2.06-.94-.94-2.06-.94 2.06-2.06.94z\"/><path d=\"M17.41 7.96l-1.37-1.37c-.4-.4-.92-.59-1.43-.59-.52 0-1.04.2-1.43.59L10.3 9.45l-7.72 7.72c-.78.78-.78 2.05 0 2.83L4 21.41c.39.39.9.59 1.41.59.51 0 1.02-.2 1.41-.59l7.78-7.78 2.81-2.81c.8-.78.8-2.07 0-2.86zM5.41 20L4 18.59l7.72-7.72 1.47 1.35L5.41 20z\"/>\n",
              "  </svg>\n",
              "      </button>\n",
              "      \n",
              "  <style>\n",
              "    .colab-df-container {\n",
              "      display:flex;\n",
              "      flex-wrap:wrap;\n",
              "      gap: 12px;\n",
              "    }\n",
              "\n",
              "    .colab-df-convert {\n",
              "      background-color: #E8F0FE;\n",
              "      border: none;\n",
              "      border-radius: 50%;\n",
              "      cursor: pointer;\n",
              "      display: none;\n",
              "      fill: #1967D2;\n",
              "      height: 32px;\n",
              "      padding: 0 0 0 0;\n",
              "      width: 32px;\n",
              "    }\n",
              "\n",
              "    .colab-df-convert:hover {\n",
              "      background-color: #E2EBFA;\n",
              "      box-shadow: 0px 1px 2px rgba(60, 64, 67, 0.3), 0px 1px 3px 1px rgba(60, 64, 67, 0.15);\n",
              "      fill: #174EA6;\n",
              "    }\n",
              "\n",
              "    [theme=dark] .colab-df-convert {\n",
              "      background-color: #3B4455;\n",
              "      fill: #D2E3FC;\n",
              "    }\n",
              "\n",
              "    [theme=dark] .colab-df-convert:hover {\n",
              "      background-color: #434B5C;\n",
              "      box-shadow: 0px 1px 3px 1px rgba(0, 0, 0, 0.15);\n",
              "      filter: drop-shadow(0px 1px 2px rgba(0, 0, 0, 0.3));\n",
              "      fill: #FFFFFF;\n",
              "    }\n",
              "  </style>\n",
              "\n",
              "      <script>\n",
              "        const buttonEl =\n",
              "          document.querySelector('#df-9b7b2af6-881b-420d-9527-55817d2c3d7c button.colab-df-convert');\n",
              "        buttonEl.style.display =\n",
              "          google.colab.kernel.accessAllowed ? 'block' : 'none';\n",
              "\n",
              "        async function convertToInteractive(key) {\n",
              "          const element = document.querySelector('#df-9b7b2af6-881b-420d-9527-55817d2c3d7c');\n",
              "          const dataTable =\n",
              "            await google.colab.kernel.invokeFunction('convertToInteractive',\n",
              "                                                     [key], {});\n",
              "          if (!dataTable) return;\n",
              "\n",
              "          const docLinkHtml = 'Like what you see? Visit the ' +\n",
              "            '<a target=\"_blank\" href=https://colab.research.google.com/notebooks/data_table.ipynb>data table notebook</a>'\n",
              "            + ' to learn more about interactive tables.';\n",
              "          element.innerHTML = '';\n",
              "          dataTable['output_type'] = 'display_data';\n",
              "          await google.colab.output.renderOutput(dataTable, element);\n",
              "          const docLink = document.createElement('div');\n",
              "          docLink.innerHTML = docLinkHtml;\n",
              "          element.appendChild(docLink);\n",
              "        }\n",
              "      </script>\n",
              "    </div>\n",
              "  </div>\n",
              "  "
            ]
          },
          "metadata": {},
          "execution_count": 68
        }
      ]
    },
    {
      "cell_type": "code",
      "source": [
        "# Checking unique values in column 'Group'\n",
        "df1['Group'].unique()"
      ],
      "metadata": {
        "colab": {
          "base_uri": "https://localhost:8080/"
        },
        "id": "5sgXgQ1ymZ-O",
        "outputId": "9e32b792-94c3-4a4e-e161-336eff1e7a96"
      },
      "execution_count": null,
      "outputs": [
        {
          "output_type": "execute_result",
          "data": {
            "text/plain": [
              "array(['Nondemented', 'Demented', 'Converted'], dtype=object)"
            ]
          },
          "metadata": {},
          "execution_count": 69
        }
      ]
    },
    {
      "cell_type": "markdown",
      "source": [
        "##### The first two groups of subjects are demented and non-demented in which the patient has the Dementia or not, respectively. Patients that develop the Dementia during the tests are grouped as converted, for making this model more generalized towards classification of the disease, I changed the subject's group from Converted to Nondemented for all the previous visits and for the final visit to Demented"
      ],
      "metadata": {
        "id": "TcOuJxPARDw1"
      }
    },
    {
      "cell_type": "code",
      "source": [
        "# Filtering rows in df1 where the 'Group' column is equal to 'Converted' and assigning them to df2\n",
        "df2 = df1.loc[df1['Group'] == 'Converted']\n",
        "\n",
        "# Dropping the rows from df1 that have been assigned to df2 using the corresponding index values\n",
        "df1 = df1.drop(df2.index)\n",
        "\n",
        "df2.head(10)"
      ],
      "metadata": {
        "colab": {
          "base_uri": "https://localhost:8080/",
          "height": 363
        },
        "id": "PO5SMMK3q4HL",
        "outputId": "1a968132-c19b-4674-cdf6-0b62872c24e2"
      },
      "execution_count": null,
      "outputs": [
        {
          "output_type": "execute_result",
          "data": {
            "text/plain": [
              "   Subject ID         MRI ID      Group  Visit  MR Delay M/F Hand  Age  EDUC  \\\n",
              "33  OAS2_0018  OAS2_0018_MR1  Converted      1         0   F    R   87    14   \n",
              "34  OAS2_0018  OAS2_0018_MR3  Converted      3       489   F    R   88    14   \n",
              "35  OAS2_0018  OAS2_0018_MR4  Converted      4      1933   F    R   92    14   \n",
              "36  OAS2_0020  OAS2_0020_MR1  Converted      1         0   M    R   80    20   \n",
              "37  OAS2_0020  OAS2_0020_MR2  Converted      2       756   M    R   82    20   \n",
              "38  OAS2_0020  OAS2_0020_MR3  Converted      3      1563   M    R   84    20   \n",
              "57  OAS2_0031  OAS2_0031_MR1  Converted      1         0   F    R   86    12   \n",
              "58  OAS2_0031  OAS2_0031_MR2  Converted      2       446   F    R   88    12   \n",
              "59  OAS2_0031  OAS2_0031_MR3  Converted      3      1588   F    R   91    12   \n",
              "81  OAS2_0041  OAS2_0041_MR1  Converted      1         0   F    R   71    16   \n",
              "\n",
              "    SES  MMSE  CDR  eTIV   nWBV    ASF  \n",
              "33  1.0  30.0  0.0  1406  0.715  1.248  \n",
              "34  1.0  29.0  0.0  1398  0.713  1.255  \n",
              "35  1.0  27.0  0.5  1423  0.696  1.234  \n",
              "36  1.0  29.0  0.0  1587  0.693  1.106  \n",
              "37  1.0  28.0  0.5  1606  0.677  1.093  \n",
              "38  1.0  26.0  0.5  1597  0.666  1.099  \n",
              "57  3.0  30.0  0.0  1430  0.718  1.227  \n",
              "58  3.0  30.0  0.0  1445  0.719  1.215  \n",
              "59  3.0  28.0  0.5  1463  0.696  1.199  \n",
              "81  1.0  27.0  0.0  1289  0.771  1.362  "
            ],
            "text/html": [
              "\n",
              "  <div id=\"df-95f4699d-59b6-41db-a64f-c81a4bb21928\">\n",
              "    <div class=\"colab-df-container\">\n",
              "      <div>\n",
              "<style scoped>\n",
              "    .dataframe tbody tr th:only-of-type {\n",
              "        vertical-align: middle;\n",
              "    }\n",
              "\n",
              "    .dataframe tbody tr th {\n",
              "        vertical-align: top;\n",
              "    }\n",
              "\n",
              "    .dataframe thead th {\n",
              "        text-align: right;\n",
              "    }\n",
              "</style>\n",
              "<table border=\"1\" class=\"dataframe\">\n",
              "  <thead>\n",
              "    <tr style=\"text-align: right;\">\n",
              "      <th></th>\n",
              "      <th>Subject ID</th>\n",
              "      <th>MRI ID</th>\n",
              "      <th>Group</th>\n",
              "      <th>Visit</th>\n",
              "      <th>MR Delay</th>\n",
              "      <th>M/F</th>\n",
              "      <th>Hand</th>\n",
              "      <th>Age</th>\n",
              "      <th>EDUC</th>\n",
              "      <th>SES</th>\n",
              "      <th>MMSE</th>\n",
              "      <th>CDR</th>\n",
              "      <th>eTIV</th>\n",
              "      <th>nWBV</th>\n",
              "      <th>ASF</th>\n",
              "    </tr>\n",
              "  </thead>\n",
              "  <tbody>\n",
              "    <tr>\n",
              "      <th>33</th>\n",
              "      <td>OAS2_0018</td>\n",
              "      <td>OAS2_0018_MR1</td>\n",
              "      <td>Converted</td>\n",
              "      <td>1</td>\n",
              "      <td>0</td>\n",
              "      <td>F</td>\n",
              "      <td>R</td>\n",
              "      <td>87</td>\n",
              "      <td>14</td>\n",
              "      <td>1.0</td>\n",
              "      <td>30.0</td>\n",
              "      <td>0.0</td>\n",
              "      <td>1406</td>\n",
              "      <td>0.715</td>\n",
              "      <td>1.248</td>\n",
              "    </tr>\n",
              "    <tr>\n",
              "      <th>34</th>\n",
              "      <td>OAS2_0018</td>\n",
              "      <td>OAS2_0018_MR3</td>\n",
              "      <td>Converted</td>\n",
              "      <td>3</td>\n",
              "      <td>489</td>\n",
              "      <td>F</td>\n",
              "      <td>R</td>\n",
              "      <td>88</td>\n",
              "      <td>14</td>\n",
              "      <td>1.0</td>\n",
              "      <td>29.0</td>\n",
              "      <td>0.0</td>\n",
              "      <td>1398</td>\n",
              "      <td>0.713</td>\n",
              "      <td>1.255</td>\n",
              "    </tr>\n",
              "    <tr>\n",
              "      <th>35</th>\n",
              "      <td>OAS2_0018</td>\n",
              "      <td>OAS2_0018_MR4</td>\n",
              "      <td>Converted</td>\n",
              "      <td>4</td>\n",
              "      <td>1933</td>\n",
              "      <td>F</td>\n",
              "      <td>R</td>\n",
              "      <td>92</td>\n",
              "      <td>14</td>\n",
              "      <td>1.0</td>\n",
              "      <td>27.0</td>\n",
              "      <td>0.5</td>\n",
              "      <td>1423</td>\n",
              "      <td>0.696</td>\n",
              "      <td>1.234</td>\n",
              "    </tr>\n",
              "    <tr>\n",
              "      <th>36</th>\n",
              "      <td>OAS2_0020</td>\n",
              "      <td>OAS2_0020_MR1</td>\n",
              "      <td>Converted</td>\n",
              "      <td>1</td>\n",
              "      <td>0</td>\n",
              "      <td>M</td>\n",
              "      <td>R</td>\n",
              "      <td>80</td>\n",
              "      <td>20</td>\n",
              "      <td>1.0</td>\n",
              "      <td>29.0</td>\n",
              "      <td>0.0</td>\n",
              "      <td>1587</td>\n",
              "      <td>0.693</td>\n",
              "      <td>1.106</td>\n",
              "    </tr>\n",
              "    <tr>\n",
              "      <th>37</th>\n",
              "      <td>OAS2_0020</td>\n",
              "      <td>OAS2_0020_MR2</td>\n",
              "      <td>Converted</td>\n",
              "      <td>2</td>\n",
              "      <td>756</td>\n",
              "      <td>M</td>\n",
              "      <td>R</td>\n",
              "      <td>82</td>\n",
              "      <td>20</td>\n",
              "      <td>1.0</td>\n",
              "      <td>28.0</td>\n",
              "      <td>0.5</td>\n",
              "      <td>1606</td>\n",
              "      <td>0.677</td>\n",
              "      <td>1.093</td>\n",
              "    </tr>\n",
              "    <tr>\n",
              "      <th>38</th>\n",
              "      <td>OAS2_0020</td>\n",
              "      <td>OAS2_0020_MR3</td>\n",
              "      <td>Converted</td>\n",
              "      <td>3</td>\n",
              "      <td>1563</td>\n",
              "      <td>M</td>\n",
              "      <td>R</td>\n",
              "      <td>84</td>\n",
              "      <td>20</td>\n",
              "      <td>1.0</td>\n",
              "      <td>26.0</td>\n",
              "      <td>0.5</td>\n",
              "      <td>1597</td>\n",
              "      <td>0.666</td>\n",
              "      <td>1.099</td>\n",
              "    </tr>\n",
              "    <tr>\n",
              "      <th>57</th>\n",
              "      <td>OAS2_0031</td>\n",
              "      <td>OAS2_0031_MR1</td>\n",
              "      <td>Converted</td>\n",
              "      <td>1</td>\n",
              "      <td>0</td>\n",
              "      <td>F</td>\n",
              "      <td>R</td>\n",
              "      <td>86</td>\n",
              "      <td>12</td>\n",
              "      <td>3.0</td>\n",
              "      <td>30.0</td>\n",
              "      <td>0.0</td>\n",
              "      <td>1430</td>\n",
              "      <td>0.718</td>\n",
              "      <td>1.227</td>\n",
              "    </tr>\n",
              "    <tr>\n",
              "      <th>58</th>\n",
              "      <td>OAS2_0031</td>\n",
              "      <td>OAS2_0031_MR2</td>\n",
              "      <td>Converted</td>\n",
              "      <td>2</td>\n",
              "      <td>446</td>\n",
              "      <td>F</td>\n",
              "      <td>R</td>\n",
              "      <td>88</td>\n",
              "      <td>12</td>\n",
              "      <td>3.0</td>\n",
              "      <td>30.0</td>\n",
              "      <td>0.0</td>\n",
              "      <td>1445</td>\n",
              "      <td>0.719</td>\n",
              "      <td>1.215</td>\n",
              "    </tr>\n",
              "    <tr>\n",
              "      <th>59</th>\n",
              "      <td>OAS2_0031</td>\n",
              "      <td>OAS2_0031_MR3</td>\n",
              "      <td>Converted</td>\n",
              "      <td>3</td>\n",
              "      <td>1588</td>\n",
              "      <td>F</td>\n",
              "      <td>R</td>\n",
              "      <td>91</td>\n",
              "      <td>12</td>\n",
              "      <td>3.0</td>\n",
              "      <td>28.0</td>\n",
              "      <td>0.5</td>\n",
              "      <td>1463</td>\n",
              "      <td>0.696</td>\n",
              "      <td>1.199</td>\n",
              "    </tr>\n",
              "    <tr>\n",
              "      <th>81</th>\n",
              "      <td>OAS2_0041</td>\n",
              "      <td>OAS2_0041_MR1</td>\n",
              "      <td>Converted</td>\n",
              "      <td>1</td>\n",
              "      <td>0</td>\n",
              "      <td>F</td>\n",
              "      <td>R</td>\n",
              "      <td>71</td>\n",
              "      <td>16</td>\n",
              "      <td>1.0</td>\n",
              "      <td>27.0</td>\n",
              "      <td>0.0</td>\n",
              "      <td>1289</td>\n",
              "      <td>0.771</td>\n",
              "      <td>1.362</td>\n",
              "    </tr>\n",
              "  </tbody>\n",
              "</table>\n",
              "</div>\n",
              "      <button class=\"colab-df-convert\" onclick=\"convertToInteractive('df-95f4699d-59b6-41db-a64f-c81a4bb21928')\"\n",
              "              title=\"Convert this dataframe to an interactive table.\"\n",
              "              style=\"display:none;\">\n",
              "        \n",
              "  <svg xmlns=\"http://www.w3.org/2000/svg\" height=\"24px\"viewBox=\"0 0 24 24\"\n",
              "       width=\"24px\">\n",
              "    <path d=\"M0 0h24v24H0V0z\" fill=\"none\"/>\n",
              "    <path d=\"M18.56 5.44l.94 2.06.94-2.06 2.06-.94-2.06-.94-.94-2.06-.94 2.06-2.06.94zm-11 1L8.5 8.5l.94-2.06 2.06-.94-2.06-.94L8.5 2.5l-.94 2.06-2.06.94zm10 10l.94 2.06.94-2.06 2.06-.94-2.06-.94-.94-2.06-.94 2.06-2.06.94z\"/><path d=\"M17.41 7.96l-1.37-1.37c-.4-.4-.92-.59-1.43-.59-.52 0-1.04.2-1.43.59L10.3 9.45l-7.72 7.72c-.78.78-.78 2.05 0 2.83L4 21.41c.39.39.9.59 1.41.59.51 0 1.02-.2 1.41-.59l7.78-7.78 2.81-2.81c.8-.78.8-2.07 0-2.86zM5.41 20L4 18.59l7.72-7.72 1.47 1.35L5.41 20z\"/>\n",
              "  </svg>\n",
              "      </button>\n",
              "      \n",
              "  <style>\n",
              "    .colab-df-container {\n",
              "      display:flex;\n",
              "      flex-wrap:wrap;\n",
              "      gap: 12px;\n",
              "    }\n",
              "\n",
              "    .colab-df-convert {\n",
              "      background-color: #E8F0FE;\n",
              "      border: none;\n",
              "      border-radius: 50%;\n",
              "      cursor: pointer;\n",
              "      display: none;\n",
              "      fill: #1967D2;\n",
              "      height: 32px;\n",
              "      padding: 0 0 0 0;\n",
              "      width: 32px;\n",
              "    }\n",
              "\n",
              "    .colab-df-convert:hover {\n",
              "      background-color: #E2EBFA;\n",
              "      box-shadow: 0px 1px 2px rgba(60, 64, 67, 0.3), 0px 1px 3px 1px rgba(60, 64, 67, 0.15);\n",
              "      fill: #174EA6;\n",
              "    }\n",
              "\n",
              "    [theme=dark] .colab-df-convert {\n",
              "      background-color: #3B4455;\n",
              "      fill: #D2E3FC;\n",
              "    }\n",
              "\n",
              "    [theme=dark] .colab-df-convert:hover {\n",
              "      background-color: #434B5C;\n",
              "      box-shadow: 0px 1px 3px 1px rgba(0, 0, 0, 0.15);\n",
              "      filter: drop-shadow(0px 1px 2px rgba(0, 0, 0, 0.3));\n",
              "      fill: #FFFFFF;\n",
              "    }\n",
              "  </style>\n",
              "\n",
              "      <script>\n",
              "        const buttonEl =\n",
              "          document.querySelector('#df-95f4699d-59b6-41db-a64f-c81a4bb21928 button.colab-df-convert');\n",
              "        buttonEl.style.display =\n",
              "          google.colab.kernel.accessAllowed ? 'block' : 'none';\n",
              "\n",
              "        async function convertToInteractive(key) {\n",
              "          const element = document.querySelector('#df-95f4699d-59b6-41db-a64f-c81a4bb21928');\n",
              "          const dataTable =\n",
              "            await google.colab.kernel.invokeFunction('convertToInteractive',\n",
              "                                                     [key], {});\n",
              "          if (!dataTable) return;\n",
              "\n",
              "          const docLinkHtml = 'Like what you see? Visit the ' +\n",
              "            '<a target=\"_blank\" href=https://colab.research.google.com/notebooks/data_table.ipynb>data table notebook</a>'\n",
              "            + ' to learn more about interactive tables.';\n",
              "          element.innerHTML = '';\n",
              "          dataTable['output_type'] = 'display_data';\n",
              "          await google.colab.output.renderOutput(dataTable, element);\n",
              "          const docLink = document.createElement('div');\n",
              "          docLink.innerHTML = docLinkHtml;\n",
              "          element.appendChild(docLink);\n",
              "        }\n",
              "      </script>\n",
              "    </div>\n",
              "  </div>\n",
              "  "
            ]
          },
          "metadata": {},
          "execution_count": 70
        }
      ]
    },
    {
      "cell_type": "code",
      "source": [
        "# Creating a new column 'Last_Visit' to identify the last visit for each patient\n",
        "df2['Last_Visit'] = df2.groupby('Subject ID')['Visit'].transform('max')\n",
        "\n",
        "# Updating the 'Group' column based on 'Visit' and 'Last_Visit' conditions\n",
        "df2.loc[df2['Visit'] < df2['Last_Visit'], 'Group'] = 'Nondemented'\n",
        "df2.loc[df2['Visit'] == df2['Last_Visit'], 'Group'] = 'Demented'\n",
        "\n",
        "# Dropping the 'Last_Visit' column\n",
        "df2.drop('Last_Visit', axis=1, inplace=True)\n",
        "\n",
        "# Displaying the updated DataFrame\n",
        "df2.head(5)"
      ],
      "metadata": {
        "colab": {
          "base_uri": "https://localhost:8080/",
          "height": 206
        },
        "id": "jx6SRHKtwkSr",
        "outputId": "fc9bfb3d-177e-4b19-ac5d-d91d35fa0fe1"
      },
      "execution_count": null,
      "outputs": [
        {
          "output_type": "execute_result",
          "data": {
            "text/plain": [
              "   Subject ID         MRI ID        Group  Visit  MR Delay M/F Hand  Age  \\\n",
              "33  OAS2_0018  OAS2_0018_MR1  Nondemented      1         0   F    R   87   \n",
              "34  OAS2_0018  OAS2_0018_MR3  Nondemented      3       489   F    R   88   \n",
              "35  OAS2_0018  OAS2_0018_MR4     Demented      4      1933   F    R   92   \n",
              "36  OAS2_0020  OAS2_0020_MR1  Nondemented      1         0   M    R   80   \n",
              "37  OAS2_0020  OAS2_0020_MR2  Nondemented      2       756   M    R   82   \n",
              "\n",
              "    EDUC  SES  MMSE  CDR  eTIV   nWBV    ASF  \n",
              "33    14  1.0  30.0  0.0  1406  0.715  1.248  \n",
              "34    14  1.0  29.0  0.0  1398  0.713  1.255  \n",
              "35    14  1.0  27.0  0.5  1423  0.696  1.234  \n",
              "36    20  1.0  29.0  0.0  1587  0.693  1.106  \n",
              "37    20  1.0  28.0  0.5  1606  0.677  1.093  "
            ],
            "text/html": [
              "\n",
              "  <div id=\"df-0ee5ad28-8f89-4d4e-95d1-94c4dc0e80fb\">\n",
              "    <div class=\"colab-df-container\">\n",
              "      <div>\n",
              "<style scoped>\n",
              "    .dataframe tbody tr th:only-of-type {\n",
              "        vertical-align: middle;\n",
              "    }\n",
              "\n",
              "    .dataframe tbody tr th {\n",
              "        vertical-align: top;\n",
              "    }\n",
              "\n",
              "    .dataframe thead th {\n",
              "        text-align: right;\n",
              "    }\n",
              "</style>\n",
              "<table border=\"1\" class=\"dataframe\">\n",
              "  <thead>\n",
              "    <tr style=\"text-align: right;\">\n",
              "      <th></th>\n",
              "      <th>Subject ID</th>\n",
              "      <th>MRI ID</th>\n",
              "      <th>Group</th>\n",
              "      <th>Visit</th>\n",
              "      <th>MR Delay</th>\n",
              "      <th>M/F</th>\n",
              "      <th>Hand</th>\n",
              "      <th>Age</th>\n",
              "      <th>EDUC</th>\n",
              "      <th>SES</th>\n",
              "      <th>MMSE</th>\n",
              "      <th>CDR</th>\n",
              "      <th>eTIV</th>\n",
              "      <th>nWBV</th>\n",
              "      <th>ASF</th>\n",
              "    </tr>\n",
              "  </thead>\n",
              "  <tbody>\n",
              "    <tr>\n",
              "      <th>33</th>\n",
              "      <td>OAS2_0018</td>\n",
              "      <td>OAS2_0018_MR1</td>\n",
              "      <td>Nondemented</td>\n",
              "      <td>1</td>\n",
              "      <td>0</td>\n",
              "      <td>F</td>\n",
              "      <td>R</td>\n",
              "      <td>87</td>\n",
              "      <td>14</td>\n",
              "      <td>1.0</td>\n",
              "      <td>30.0</td>\n",
              "      <td>0.0</td>\n",
              "      <td>1406</td>\n",
              "      <td>0.715</td>\n",
              "      <td>1.248</td>\n",
              "    </tr>\n",
              "    <tr>\n",
              "      <th>34</th>\n",
              "      <td>OAS2_0018</td>\n",
              "      <td>OAS2_0018_MR3</td>\n",
              "      <td>Nondemented</td>\n",
              "      <td>3</td>\n",
              "      <td>489</td>\n",
              "      <td>F</td>\n",
              "      <td>R</td>\n",
              "      <td>88</td>\n",
              "      <td>14</td>\n",
              "      <td>1.0</td>\n",
              "      <td>29.0</td>\n",
              "      <td>0.0</td>\n",
              "      <td>1398</td>\n",
              "      <td>0.713</td>\n",
              "      <td>1.255</td>\n",
              "    </tr>\n",
              "    <tr>\n",
              "      <th>35</th>\n",
              "      <td>OAS2_0018</td>\n",
              "      <td>OAS2_0018_MR4</td>\n",
              "      <td>Demented</td>\n",
              "      <td>4</td>\n",
              "      <td>1933</td>\n",
              "      <td>F</td>\n",
              "      <td>R</td>\n",
              "      <td>92</td>\n",
              "      <td>14</td>\n",
              "      <td>1.0</td>\n",
              "      <td>27.0</td>\n",
              "      <td>0.5</td>\n",
              "      <td>1423</td>\n",
              "      <td>0.696</td>\n",
              "      <td>1.234</td>\n",
              "    </tr>\n",
              "    <tr>\n",
              "      <th>36</th>\n",
              "      <td>OAS2_0020</td>\n",
              "      <td>OAS2_0020_MR1</td>\n",
              "      <td>Nondemented</td>\n",
              "      <td>1</td>\n",
              "      <td>0</td>\n",
              "      <td>M</td>\n",
              "      <td>R</td>\n",
              "      <td>80</td>\n",
              "      <td>20</td>\n",
              "      <td>1.0</td>\n",
              "      <td>29.0</td>\n",
              "      <td>0.0</td>\n",
              "      <td>1587</td>\n",
              "      <td>0.693</td>\n",
              "      <td>1.106</td>\n",
              "    </tr>\n",
              "    <tr>\n",
              "      <th>37</th>\n",
              "      <td>OAS2_0020</td>\n",
              "      <td>OAS2_0020_MR2</td>\n",
              "      <td>Nondemented</td>\n",
              "      <td>2</td>\n",
              "      <td>756</td>\n",
              "      <td>M</td>\n",
              "      <td>R</td>\n",
              "      <td>82</td>\n",
              "      <td>20</td>\n",
              "      <td>1.0</td>\n",
              "      <td>28.0</td>\n",
              "      <td>0.5</td>\n",
              "      <td>1606</td>\n",
              "      <td>0.677</td>\n",
              "      <td>1.093</td>\n",
              "    </tr>\n",
              "  </tbody>\n",
              "</table>\n",
              "</div>\n",
              "      <button class=\"colab-df-convert\" onclick=\"convertToInteractive('df-0ee5ad28-8f89-4d4e-95d1-94c4dc0e80fb')\"\n",
              "              title=\"Convert this dataframe to an interactive table.\"\n",
              "              style=\"display:none;\">\n",
              "        \n",
              "  <svg xmlns=\"http://www.w3.org/2000/svg\" height=\"24px\"viewBox=\"0 0 24 24\"\n",
              "       width=\"24px\">\n",
              "    <path d=\"M0 0h24v24H0V0z\" fill=\"none\"/>\n",
              "    <path d=\"M18.56 5.44l.94 2.06.94-2.06 2.06-.94-2.06-.94-.94-2.06-.94 2.06-2.06.94zm-11 1L8.5 8.5l.94-2.06 2.06-.94-2.06-.94L8.5 2.5l-.94 2.06-2.06.94zm10 10l.94 2.06.94-2.06 2.06-.94-2.06-.94-.94-2.06-.94 2.06-2.06.94z\"/><path d=\"M17.41 7.96l-1.37-1.37c-.4-.4-.92-.59-1.43-.59-.52 0-1.04.2-1.43.59L10.3 9.45l-7.72 7.72c-.78.78-.78 2.05 0 2.83L4 21.41c.39.39.9.59 1.41.59.51 0 1.02-.2 1.41-.59l7.78-7.78 2.81-2.81c.8-.78.8-2.07 0-2.86zM5.41 20L4 18.59l7.72-7.72 1.47 1.35L5.41 20z\"/>\n",
              "  </svg>\n",
              "      </button>\n",
              "      \n",
              "  <style>\n",
              "    .colab-df-container {\n",
              "      display:flex;\n",
              "      flex-wrap:wrap;\n",
              "      gap: 12px;\n",
              "    }\n",
              "\n",
              "    .colab-df-convert {\n",
              "      background-color: #E8F0FE;\n",
              "      border: none;\n",
              "      border-radius: 50%;\n",
              "      cursor: pointer;\n",
              "      display: none;\n",
              "      fill: #1967D2;\n",
              "      height: 32px;\n",
              "      padding: 0 0 0 0;\n",
              "      width: 32px;\n",
              "    }\n",
              "\n",
              "    .colab-df-convert:hover {\n",
              "      background-color: #E2EBFA;\n",
              "      box-shadow: 0px 1px 2px rgba(60, 64, 67, 0.3), 0px 1px 3px 1px rgba(60, 64, 67, 0.15);\n",
              "      fill: #174EA6;\n",
              "    }\n",
              "\n",
              "    [theme=dark] .colab-df-convert {\n",
              "      background-color: #3B4455;\n",
              "      fill: #D2E3FC;\n",
              "    }\n",
              "\n",
              "    [theme=dark] .colab-df-convert:hover {\n",
              "      background-color: #434B5C;\n",
              "      box-shadow: 0px 1px 3px 1px rgba(0, 0, 0, 0.15);\n",
              "      filter: drop-shadow(0px 1px 2px rgba(0, 0, 0, 0.3));\n",
              "      fill: #FFFFFF;\n",
              "    }\n",
              "  </style>\n",
              "\n",
              "      <script>\n",
              "        const buttonEl =\n",
              "          document.querySelector('#df-0ee5ad28-8f89-4d4e-95d1-94c4dc0e80fb button.colab-df-convert');\n",
              "        buttonEl.style.display =\n",
              "          google.colab.kernel.accessAllowed ? 'block' : 'none';\n",
              "\n",
              "        async function convertToInteractive(key) {\n",
              "          const element = document.querySelector('#df-0ee5ad28-8f89-4d4e-95d1-94c4dc0e80fb');\n",
              "          const dataTable =\n",
              "            await google.colab.kernel.invokeFunction('convertToInteractive',\n",
              "                                                     [key], {});\n",
              "          if (!dataTable) return;\n",
              "\n",
              "          const docLinkHtml = 'Like what you see? Visit the ' +\n",
              "            '<a target=\"_blank\" href=https://colab.research.google.com/notebooks/data_table.ipynb>data table notebook</a>'\n",
              "            + ' to learn more about interactive tables.';\n",
              "          element.innerHTML = '';\n",
              "          dataTable['output_type'] = 'display_data';\n",
              "          await google.colab.output.renderOutput(dataTable, element);\n",
              "          const docLink = document.createElement('div');\n",
              "          docLink.innerHTML = docLinkHtml;\n",
              "          element.appendChild(docLink);\n",
              "        }\n",
              "      </script>\n",
              "    </div>\n",
              "  </div>\n",
              "  "
            ]
          },
          "metadata": {},
          "execution_count": 71
        }
      ]
    },
    {
      "cell_type": "code",
      "source": [
        "# Combining the DataFrames df1 and df2\n",
        "frames = [df1, df2]\n",
        "df = pd.concat(frames)\n",
        "\n",
        "df['Group'].unique()"
      ],
      "metadata": {
        "colab": {
          "base_uri": "https://localhost:8080/"
        },
        "id": "LqrVUdmaMTKD",
        "outputId": "6aa43ac2-f58c-4062-acd5-d7ec1e2d7aee"
      },
      "execution_count": null,
      "outputs": [
        {
          "output_type": "execute_result",
          "data": {
            "text/plain": [
              "array(['Nondemented', 'Demented'], dtype=object)"
            ]
          },
          "metadata": {},
          "execution_count": 72
        }
      ]
    },
    {
      "cell_type": "code",
      "source": [
        "# Renaming the 'M/F' column to 'Gender' in the DataFrame\n",
        "df.rename(columns={'M/F': 'Gender'}, inplace=True)\n",
        "\n",
        "# Dropping unnecessary columns from the DataFrame\n",
        "df.drop(columns=['Subject ID', 'MRI ID', 'Hand', 'Visit', 'MR Delay'], inplace=True)"
      ],
      "metadata": {
        "id": "JZMdtjM5Qvei"
      },
      "execution_count": null,
      "outputs": []
    },
    {
      "cell_type": "code",
      "source": [
        "# Checking for missing values in the DataFrame\n",
        "df.isna().sum()"
      ],
      "metadata": {
        "colab": {
          "base_uri": "https://localhost:8080/"
        },
        "id": "vx8iSe4EssNA",
        "outputId": "f85fa6cb-b101-4340-c7bd-710eb066d3ed"
      },
      "execution_count": null,
      "outputs": [
        {
          "output_type": "execute_result",
          "data": {
            "text/plain": [
              "Group      0\n",
              "Gender     0\n",
              "Age        0\n",
              "EDUC       0\n",
              "SES       19\n",
              "MMSE       2\n",
              "CDR        0\n",
              "eTIV       0\n",
              "nWBV       0\n",
              "ASF        0\n",
              "dtype: int64"
            ]
          },
          "metadata": {},
          "execution_count": 74
        }
      ]
    },
    {
      "cell_type": "markdown",
      "source": [],
      "metadata": {
        "id": "lOAPN1vPslWK"
      }
    },
    {
      "cell_type": "markdown",
      "source": [
        "#### 1.1 Missing value imputation"
      ],
      "metadata": {
        "id": "OkFfdTd56FZT"
      }
    },
    {
      "cell_type": "code",
      "source": [
        "# Imputing missing values in the 'SES' column with the mode\n",
        "df.SES.fillna(df.SES.mode()[0], inplace=True)\n",
        "\n",
        "# Imputing missing values in the 'MMSE' column with the mean\n",
        "df.MMSE.fillna(df.MMSE.mean(), inplace=True)\n",
        "\n",
        "df.isna().sum()"
      ],
      "metadata": {
        "colab": {
          "base_uri": "https://localhost:8080/"
        },
        "id": "8kc2kGWV47qo",
        "outputId": "461698d3-c57b-40b2-dfbe-96403f77a344"
      },
      "execution_count": null,
      "outputs": [
        {
          "output_type": "execute_result",
          "data": {
            "text/plain": [
              "Group     0\n",
              "Gender    0\n",
              "Age       0\n",
              "EDUC      0\n",
              "SES       0\n",
              "MMSE      0\n",
              "CDR       0\n",
              "eTIV      0\n",
              "nWBV      0\n",
              "ASF       0\n",
              "dtype: int64"
            ]
          },
          "metadata": {},
          "execution_count": 75
        }
      ]
    },
    {
      "cell_type": "code",
      "source": [
        "df.to_csv('/content/drive/MyDrive/datasets/dementia_classification/dementia_classification_cleansed.csv')"
      ],
      "metadata": {
        "id": "rRy0sGjc6Pf1"
      },
      "execution_count": null,
      "outputs": []
    },
    {
      "cell_type": "markdown",
      "source": [
        "### 2. EDA"
      ],
      "metadata": {
        "id": "GzORNUOp6Id0"
      }
    },
    {
      "cell_type": "code",
      "source": [
        "# Creating a count plot with 'Group' on the x-axis\n",
        "sns.countplot(data=df, x='Group', palette='Set2').set(title = 'Dementia Group');"
      ],
      "metadata": {
        "colab": {
          "base_uri": "https://localhost:8080/",
          "height": 472
        },
        "id": "qhmcG7C8569K",
        "outputId": "218a0470-c5f7-463c-af7b-d963b93ad5a4"
      },
      "execution_count": null,
      "outputs": [
        {
          "output_type": "display_data",
          "data": {
            "text/plain": [
              "<Figure size 640x480 with 1 Axes>"
            ],
            "image/png": "[encoded data removed]"
          },
          "metadata": {}
        }
      ]
    },
    {
      "cell_type": "code",
      "source": [
        "# Visualizing the distribution of 'Group' by 'Gender' using a count plot\n",
        "sns.countplot(data=df, x='Group', palette='Set2', hue='Gender').set(title = 'Dementia Group by Gender');"
      ],
      "metadata": {
        "colab": {
          "base_uri": "https://localhost:8080/",
          "height": 472
        },
        "id": "9yDPTrMg8gzI",
        "outputId": "fba7480f-d882-4c42-b498-e0e85666bd1c"
      },
      "execution_count": null,
      "outputs": [
        {
          "output_type": "display_data",
          "data": {
            "text/plain": [
              "<Figure size 640x480 with 1 Axes>"
            ],
            "image/png": "[encoded data removed]"
          },
          "metadata": {}
        }
      ]
    },
    {
      "cell_type": "code",
      "source": [
        "# Visualizing the distribution of Education for each 'Gender' and 'Group'\n",
        "sns.displot(data=df, x='EDUC', col='Gender', palette='Set2', hue='Group', kind='kde');"
      ],
      "metadata": {
        "colab": {
          "base_uri": "https://localhost:8080/",
          "height": 507
        },
        "id": "6DqdA99Lw_64",
        "outputId": "6166df42-2cfa-4191-def7-2e09c091e364"
      },
      "execution_count": null,
      "outputs": [
        {
          "output_type": "display_data",
          "data": {
            "text/plain": [
              "<Figure size 1148.62x500 with 2 Axes>"
            ],
            "image/png": "[encoded data removed]"
          },
          "metadata": {}
        }
      ]
    },
    {
      "cell_type": "code",
      "source": [
        "# Visualizing the distribution of 'Age' for each 'Group'\n",
        "sns.displot(data=df, x='Age', hue='Group', kind=\"kde\", palette='Set2');"
      ],
      "metadata": {
        "colab": {
          "base_uri": "https://localhost:8080/",
          "height": 506
        },
        "id": "v-q5M8Pf76L8",
        "outputId": "b8d884f3-4e7d-497b-bbca-a893dddf1523"
      },
      "execution_count": null,
      "outputs": [
        {
          "output_type": "display_data",
          "data": {
            "text/plain": [
              "<Figure size 648.625x500 with 1 Axes>"
            ],
            "image/png": "[encoded data removed]"
          },
          "metadata": {}
        }
      ]
    },
    {
      "cell_type": "code",
      "source": [
        "# Visualizing the correlation matrix of numeric columns using a heatmap\n",
        "sns.heatmap(df.corr(numeric_only=True), vmin=-1, cmap='coolwarm');"
      ],
      "metadata": {
        "colab": {
          "base_uri": "https://localhost:8080/",
          "height": 435
        },
        "id": "Qfl9i6aX6C1a",
        "outputId": "4cfb6f19-e5a6-425e-ba84-e56064f86fe0"
      },
      "execution_count": null,
      "outputs": [
        {
          "output_type": "display_data",
          "data": {
            "text/plain": [
              "<Figure size 640x480 with 2 Axes>"
            ],
            "image/png": "[encoded data removed]"
          },
          "metadata": {}
        }
      ]
    },
    {
      "cell_type": "code",
      "source": [
        "# Asf and Etiv have a strong negative correlation, eliminating one of the two variables to reduce noise in the data\n",
        "df.drop(columns=['ASF'], inplace=True)"
      ],
      "metadata": {
        "id": "zOc36hw9NPq8"
      },
      "execution_count": null,
      "outputs": []
    },
    {
      "cell_type": "code",
      "source": [
        "# Visualizing the relationship between 'MMSE' and 'CDR' variables with respect to 'Group'\n",
        "sns.scatterplot(data=df, x='MMSE', y='CDR', palette='Set2', hue='Group');"
      ],
      "metadata": {
        "colab": {
          "base_uri": "https://localhost:8080/",
          "height": 449
        },
        "id": "KhxAjEhG9yp1",
        "outputId": "8c3f2452-d213-4516-fada-31d5f2c7a7d9"
      },
      "execution_count": null,
      "outputs": [
        {
          "output_type": "display_data",
          "data": {
            "text/plain": [
              "<Figure size 640x480 with 1 Axes>"
            ],
            "image/png": "[encoded data removed]"
          },
          "metadata": {}
        }
      ]
    },
    {
      "cell_type": "markdown",
      "source": [
        "### 3. Data Preprocessing"
      ],
      "metadata": {
        "id": "EG05-C8UOCqD"
      }
    },
    {
      "cell_type": "markdown",
      "source": [
        "#### 3.1 Encoding categorical featues\n",
        "\n"
      ],
      "metadata": {
        "id": "N8zrac_wOJU5"
      }
    },
    {
      "cell_type": "code",
      "source": [
        "# Importing the necessary library for label encoding\n",
        "from sklearn.preprocessing import LabelEncoder\n",
        "\n",
        "# Creating an instance of the LabelEncoder class\n",
        "le = LabelEncoder()\n",
        "\n",
        "# Encoding the 'Gender' column in the DataFrame\n",
        "df.Gender = le.fit_transform(df.Gender.values)\n",
        "\n",
        "# Printing the mapping of encoded values to original classes for 'Gender'\n",
        "print(f'Sex:\\n0 : {le.classes_[0]}\\n1 : {le.classes_[1]}\\n\\n')\n",
        "\n",
        "df.Group = le.fit_transform(df.Group.values)\n",
        "print(f'Group:\\n0 : {le.classes_[0]}\\n1 : {le.classes_[1]}')\n"
      ],
      "metadata": {
        "colab": {
          "base_uri": "https://localhost:8080/"
        },
        "id": "yft2yl3mOH2U",
        "outputId": "0df7ddf0-5b1e-4eba-d4db-02e1d4e1b93e"
      },
      "execution_count": null,
      "outputs": [
        {
          "output_type": "stream",
          "name": "stdout",
          "text": [
            "Sex:\n",
            "0 : F\n",
            "1 : M\n",
            "\n",
            "\n",
            "Group:\n",
            "0 : Demented\n",
            "1 : Nondemented\n"
          ]
        }
      ]
    },
    {
      "cell_type": "code",
      "source": [
        "# Importing the necessary library for train-test split\n",
        "from sklearn.model_selection import train_test_split\n",
        "\n",
        "# Assigning the 'Group' column as the target variable\n",
        "y = df.Group\n",
        "\n",
        "# Assigning the remaining columns as the features\n",
        "X = df.drop(['Group'], axis=1)\n",
        "\n",
        "# Performing the train-test split\n",
        "X_train, X_test, y_train, y_test = train_test_split(X, y, test_size=0.2, random_state=42)\n"
      ],
      "metadata": {
        "id": "1htoUBsPCeib"
      },
      "execution_count": null,
      "outputs": []
    },
    {
      "cell_type": "code",
      "source": [
        "# Importing the necessary library for Random Forest classification\n",
        "from sklearn.ensemble import RandomForestClassifier\n",
        "\n",
        "# Creating an instance of the RandomForestClassifier\n",
        "model = RandomForestClassifier(random_state=42)\n",
        "\n",
        "# Fitting the model to the training data\n",
        "model.fit(X_train, y_train)\n",
        "\n",
        "# Predicting the target variable for the test data\n",
        "y_hat = model.predict(X_test)\n"
      ],
      "metadata": {
        "id": "UxydXTTFCpkY"
      },
      "execution_count": null,
      "outputs": []
    },
    {
      "cell_type": "code",
      "source": [
        "# Importing the necessary libraries for performance evaluation\n",
        "from sklearn.metrics import accuracy_score\n",
        "from sklearn.metrics import precision_score\n",
        "from sklearn.metrics import recall_score\n",
        "from sklearn.metrics import f1_score\n",
        "from sklearn.model_selection import GridSearchCV\n",
        "from sklearn.metrics import confusion_matrix\n",
        "\n",
        "print('Accuracy Score:', accuracy_score(y_test, y_hat))\n",
        "print('Precision:', precision_score(y_test, y_hat, average='binary'))\n",
        "print('Recall:', recall_score(y_test, y_hat, average='binary'))\n",
        "print('F1 Score:', f1_score(y_test, y_hat, average='binary') )"
      ],
      "metadata": {
        "colab": {
          "base_uri": "https://localhost:8080/"
        },
        "id": "vwj7SGDYDTLU",
        "outputId": "bc57b8fd-b7b3-4fa5-ebf3-177f5999429b"
      },
      "execution_count": null,
      "outputs": [
        {
          "output_type": "stream",
          "name": "stdout",
          "text": [
            "Accuracy Score: 0.9733333333333334\n",
            "Precision: 1.0\n",
            "Recall: 0.9512195121951219\n",
            "F1 Score: 0.975\n"
          ]
        }
      ]
    },
    {
      "cell_type": "code",
      "source": [
        "# Defining the parameter grid for GridSearchCV\n",
        "param_grid = { \n",
        "    'n_estimators': [30,50,70],\n",
        "    'min_samples_split': [2,4,6],\n",
        "    'criterion': ['gini', 'entropy']\n",
        "}\n",
        "\n",
        "gs = GridSearchCV ( estimator = model,\n",
        "                   param_grid = param_grid,\n",
        "                   scoring = 'precision',\n",
        "                   cv = 5,\n",
        "                   refit = True,\n",
        "                   n_jobs = -1\n",
        "                   )\n",
        "\n",
        "gs = gs.fit (X_train, y_train)\n",
        "\n",
        "print ('Parameter setting that gave the best results on the hold out data:', gs.best_params_)"
      ],
      "metadata": {
        "colab": {
          "base_uri": "https://localhost:8080/"
        },
        "id": "Oo147a_vIKi6",
        "outputId": "0a914057-a7b0-40fb-941e-51bdf1bc0ecd"
      },
      "execution_count": null,
      "outputs": [
        {
          "output_type": "stream",
          "name": "stdout",
          "text": [
            "Parameter setting that gave the best results on the hold out data: {'criterion': 'entropy', 'min_samples_split': 2, 'n_estimators': 30}\n"
          ]
        }
      ]
    },
    {
      "cell_type": "code",
      "source": [
        "y_hat_gs = gs.predict(X_test)\n",
        "print('Accuracy Score after hyperparameter tuning:', accuracy_score(y_test, y_hat_gs))\n",
        "print('Precision:', precision_score(y_test, y_hat_gs, average='binary'))\n",
        "print('Recall:', recall_score(y_test, y_hat_gs, average='binary'))\n",
        "print('F1 Score:', f1_score(y_test, y_hat_gs, average='binary') )"
      ],
      "metadata": {
        "colab": {
          "base_uri": "https://localhost:8080/"
        },
        "id": "d58R7AbIhtQ7",
        "outputId": "4008801e-fa86-4984-9256-1a32630691a9"
      },
      "execution_count": null,
      "outputs": [
        {
          "output_type": "stream",
          "name": "stdout",
          "text": [
            "Accuracy Score after hyperparameter tuning: 0.96\n",
            "Precision: 1.0\n",
            "Recall: 0.926829268292683\n",
            "F1 Score: 0.9620253164556963\n"
          ]
        }
      ]
    }
  ]
}